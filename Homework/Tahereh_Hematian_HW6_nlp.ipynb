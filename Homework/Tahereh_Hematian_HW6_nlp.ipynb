{
  "nbformat": 4,
  "nbformat_minor": 0,
  "metadata": {
    "colab": {
      "provenance": [],
      "collapsed_sections": [],
      "authorship_tag": "ABX9TyM43WDmI5tpA0mSnrz3Wii4",
      "include_colab_link": true
    },
    "kernelspec": {
      "name": "python3",
      "display_name": "Python 3"
    },
    "language_info": {
      "name": "python"
    }
  },
  "cells": [
    {
      "cell_type": "markdown",
      "metadata": {
        "id": "view-in-github",
        "colab_type": "text"
      },
      "source": [
        "<a href=\"https://colab.research.google.com/github/SepideHematian/NLP_690_course/blob/main/Homework/Tahereh_Hematian_HW6_nlp.ipynb\" target=\"_parent\"><img src=\"https://colab.research.google.com/assets/colab-badge.svg\" alt=\"Open In Colab\"/></a>"
      ]
    },
    {
      "cell_type": "markdown",
      "source": [
        "## Exercise 1: Text Generation"
      ],
      "metadata": {
        "id": "IM7YD60e8YRR"
      }
    },
    {
      "cell_type": "markdown",
      "source": [
        "- Install markovify\n",
        "- Import pandas and markovify"
      ],
      "metadata": {
        "id": "JiAwIaqz8YGR"
      }
    },
    {
      "cell_type": "code",
      "source": [
        "! pip install markovify"
      ],
      "metadata": {
        "colab": {
          "base_uri": "https://localhost:8080/"
        },
        "id": "bxmtR1jRq2ON",
        "outputId": "b62bdd2b-917a-4fde-9fe7-b7374b2aa0a1"
      },
      "execution_count": null,
      "outputs": [
        {
          "output_type": "stream",
          "name": "stdout",
          "text": [
            "Looking in indexes: https://pypi.org/simple, https://us-python.pkg.dev/colab-wheels/public/simple/\n",
            "Collecting markovify\n",
            "  Downloading markovify-0.9.4.tar.gz (27 kB)\n",
            "Collecting unidecode\n",
            "  Downloading Unidecode-1.3.6-py3-none-any.whl (235 kB)\n",
            "\u001b[K     |████████████████████████████████| 235 kB 10.8 MB/s \n",
            "\u001b[?25hBuilding wheels for collected packages: markovify\n",
            "  Building wheel for markovify (setup.py) ... \u001b[?25l\u001b[?25hdone\n",
            "  Created wheel for markovify: filename=markovify-0.9.4-py3-none-any.whl size=18628 sha256=048e99cd24d0a226cea0cf1285c06c9fe9c1fbe5377c87068d87ecfd177a8029\n",
            "  Stored in directory: /root/.cache/pip/wheels/36/c5/82/11125c5a7dadec27ef49ac2b3a12d3b1f79ff7333c92a9b67b\n",
            "Successfully built markovify\n",
            "Installing collected packages: unidecode, markovify\n",
            "Successfully installed markovify-0.9.4 unidecode-1.3.6\n"
          ]
        }
      ]
    },
    {
      "cell_type": "code",
      "source": [
        "import markovify\n",
        "import pandas as pd\n",
        "import numpy as np"
      ],
      "metadata": {
        "id": "1vva0IRQq2LK"
      },
      "execution_count": 46,
      "outputs": []
    },
    {
      "cell_type": "markdown",
      "source": [
        "- Load the file ‘abcnews-date-text.csc’ as ‘inp’"
      ],
      "metadata": {
        "id": "6JOkeZgQGcgM"
      }
    },
    {
      "cell_type": "code",
      "source": [
        "# Reading the data\n",
        "colnames=['publish_date', 'headline_text'] \n",
        "inp = pd.read_csv('/content/abcnews-date-text.csv',names=colnames, header=None ).shift(-1)"
      ],
      "metadata": {
        "colab": {
          "base_uri": "https://localhost:8080/"
        },
        "id": "5FQ3NxXPAAwp",
        "outputId": "9e87f9f8-195d-434c-c726-c8f28b44ae6e"
      },
      "execution_count": null,
      "outputs": [
        {
          "output_type": "stream",
          "name": "stderr",
          "text": [
            "/usr/local/lib/python3.7/dist-packages/IPython/core/interactiveshell.py:3326: DtypeWarning: Columns (0) have mixed types.Specify dtype option on import or set low_memory=False.\n",
            "  exec(code_obj, self.user_global_ns, self.user_ns)\n"
          ]
        }
      ]
    },
    {
      "cell_type": "markdown",
      "source": [
        "- Look at the three top rows"
      ],
      "metadata": {
        "id": "W4G3S8FlGhBh"
      }
    },
    {
      "cell_type": "code",
      "source": [
        "inp.head(3)"
      ],
      "metadata": {
        "colab": {
          "base_uri": "https://localhost:8080/",
          "height": 143
        },
        "id": "ZnVim985ARvA",
        "outputId": "9db34f19-dbcc-470a-8248-acd5c2ec3363"
      },
      "execution_count": null,
      "outputs": [
        {
          "output_type": "execute_result",
          "data": {
            "text/plain": [
              "  publish_date                                      headline_text\n",
              "0     20030219  aba decides against community broadcasting lic...\n",
              "1     20030219     act fire witnesses must be aware of defamation\n",
              "2     20030219     a g calls for infrastructure protection summit"
            ],
            "text/html": [
              "\n",
              "  <div id=\"df-e2d0e313-80f1-4e60-99eb-002b6b07ae24\">\n",
              "    <div class=\"colab-df-container\">\n",
              "      <div>\n",
              "<style scoped>\n",
              "    .dataframe tbody tr th:only-of-type {\n",
              "        vertical-align: middle;\n",
              "    }\n",
              "\n",
              "    .dataframe tbody tr th {\n",
              "        vertical-align: top;\n",
              "    }\n",
              "\n",
              "    .dataframe thead th {\n",
              "        text-align: right;\n",
              "    }\n",
              "</style>\n",
              "<table border=\"1\" class=\"dataframe\">\n",
              "  <thead>\n",
              "    <tr style=\"text-align: right;\">\n",
              "      <th></th>\n",
              "      <th>publish_date</th>\n",
              "      <th>headline_text</th>\n",
              "    </tr>\n",
              "  </thead>\n",
              "  <tbody>\n",
              "    <tr>\n",
              "      <th>0</th>\n",
              "      <td>20030219</td>\n",
              "      <td>aba decides against community broadcasting lic...</td>\n",
              "    </tr>\n",
              "    <tr>\n",
              "      <th>1</th>\n",
              "      <td>20030219</td>\n",
              "      <td>act fire witnesses must be aware of defamation</td>\n",
              "    </tr>\n",
              "    <tr>\n",
              "      <th>2</th>\n",
              "      <td>20030219</td>\n",
              "      <td>a g calls for infrastructure protection summit</td>\n",
              "    </tr>\n",
              "  </tbody>\n",
              "</table>\n",
              "</div>\n",
              "      <button class=\"colab-df-convert\" onclick=\"convertToInteractive('df-e2d0e313-80f1-4e60-99eb-002b6b07ae24')\"\n",
              "              title=\"Convert this dataframe to an interactive table.\"\n",
              "              style=\"display:none;\">\n",
              "        \n",
              "  <svg xmlns=\"http://www.w3.org/2000/svg\" height=\"24px\"viewBox=\"0 0 24 24\"\n",
              "       width=\"24px\">\n",
              "    <path d=\"M0 0h24v24H0V0z\" fill=\"none\"/>\n",
              "    <path d=\"M18.56 5.44l.94 2.06.94-2.06 2.06-.94-2.06-.94-.94-2.06-.94 2.06-2.06.94zm-11 1L8.5 8.5l.94-2.06 2.06-.94-2.06-.94L8.5 2.5l-.94 2.06-2.06.94zm10 10l.94 2.06.94-2.06 2.06-.94-2.06-.94-.94-2.06-.94 2.06-2.06.94z\"/><path d=\"M17.41 7.96l-1.37-1.37c-.4-.4-.92-.59-1.43-.59-.52 0-1.04.2-1.43.59L10.3 9.45l-7.72 7.72c-.78.78-.78 2.05 0 2.83L4 21.41c.39.39.9.59 1.41.59.51 0 1.02-.2 1.41-.59l7.78-7.78 2.81-2.81c.8-.78.8-2.07 0-2.86zM5.41 20L4 18.59l7.72-7.72 1.47 1.35L5.41 20z\"/>\n",
              "  </svg>\n",
              "      </button>\n",
              "      \n",
              "  <style>\n",
              "    .colab-df-container {\n",
              "      display:flex;\n",
              "      flex-wrap:wrap;\n",
              "      gap: 12px;\n",
              "    }\n",
              "\n",
              "    .colab-df-convert {\n",
              "      background-color: #E8F0FE;\n",
              "      border: none;\n",
              "      border-radius: 50%;\n",
              "      cursor: pointer;\n",
              "      display: none;\n",
              "      fill: #1967D2;\n",
              "      height: 32px;\n",
              "      padding: 0 0 0 0;\n",
              "      width: 32px;\n",
              "    }\n",
              "\n",
              "    .colab-df-convert:hover {\n",
              "      background-color: #E2EBFA;\n",
              "      box-shadow: 0px 1px 2px rgba(60, 64, 67, 0.3), 0px 1px 3px 1px rgba(60, 64, 67, 0.15);\n",
              "      fill: #174EA6;\n",
              "    }\n",
              "\n",
              "    [theme=dark] .colab-df-convert {\n",
              "      background-color: #3B4455;\n",
              "      fill: #D2E3FC;\n",
              "    }\n",
              "\n",
              "    [theme=dark] .colab-df-convert:hover {\n",
              "      background-color: #434B5C;\n",
              "      box-shadow: 0px 1px 3px 1px rgba(0, 0, 0, 0.15);\n",
              "      filter: drop-shadow(0px 1px 2px rgba(0, 0, 0, 0.3));\n",
              "      fill: #FFFFFF;\n",
              "    }\n",
              "  </style>\n",
              "\n",
              "      <script>\n",
              "        const buttonEl =\n",
              "          document.querySelector('#df-e2d0e313-80f1-4e60-99eb-002b6b07ae24 button.colab-df-convert');\n",
              "        buttonEl.style.display =\n",
              "          google.colab.kernel.accessAllowed ? 'block' : 'none';\n",
              "\n",
              "        async function convertToInteractive(key) {\n",
              "          const element = document.querySelector('#df-e2d0e313-80f1-4e60-99eb-002b6b07ae24');\n",
              "          const dataTable =\n",
              "            await google.colab.kernel.invokeFunction('convertToInteractive',\n",
              "                                                     [key], {});\n",
              "          if (!dataTable) return;\n",
              "\n",
              "          const docLinkHtml = 'Like what you see? Visit the ' +\n",
              "            '<a target=\"_blank\" href=https://colab.research.google.com/notebooks/data_table.ipynb>data table notebook</a>'\n",
              "            + ' to learn more about interactive tables.';\n",
              "          element.innerHTML = '';\n",
              "          dataTable['output_type'] = 'display_data';\n",
              "          await google.colab.output.renderOutput(dataTable, element);\n",
              "          const docLink = document.createElement('div');\n",
              "          docLink.innerHTML = docLinkHtml;\n",
              "          element.appendChild(docLink);\n",
              "        }\n",
              "      </script>\n",
              "    </div>\n",
              "  </div>\n",
              "  "
            ]
          },
          "metadata": {},
          "execution_count": 5
        }
      ]
    },
    {
      "cell_type": "markdown",
      "source": [
        "- Create a model with markovify as ‘text_model’ to generate text"
      ],
      "metadata": {
        "id": "j6vqYDReGmZH"
      }
    },
    {
      "cell_type": "code",
      "source": [
        "inp['headline_text'] = inp['headline_text'].astype('str')"
      ],
      "metadata": {
        "id": "278Yv48G8ZEy"
      },
      "execution_count": 17,
      "outputs": []
    },
    {
      "cell_type": "code",
      "source": [
        "text_model = markovify.NewlineText(inp['headline_text'], state_size = 2)"
      ],
      "metadata": {
        "id": "myNqUkSCAW9U"
      },
      "execution_count": 18,
      "outputs": []
    },
    {
      "cell_type": "markdown",
      "source": [
        "- Print ten randomly generated sentences using the built model"
      ],
      "metadata": {
        "id": "iUUdUfbCGp85"
      }
    },
    {
      "cell_type": "code",
      "source": [
        "# Print ten randomly-generated sentences using the built model\n",
        "for i in range(10):\n",
        "    print(text_model.make_sentence())"
      ],
      "metadata": {
        "id": "oopBMB3CCZD5",
        "colab": {
          "base_uri": "https://localhost:8080/"
        },
        "outputId": "f3c98b23-bd43-4b1c-f4ef-9ca4d018769f"
      },
      "execution_count": 19,
      "outputs": [
        {
          "output_type": "stream",
          "name": "stdout",
          "text": [
            "200k jobs at coffs beach\n",
            "supertrawler banned from northbridge after dark web drugs syndicate\n",
            "crocs announce new pm\n",
            "professor backs australia date conversation\n",
            "retrial planned for cerebral palsy treatment centre\n",
            "laver to miss new zealand super rugby semi f\n",
            "israeli building approvals fall\n",
            "govt wants ets inquiry told of multiple sex offence charges\n",
            "police killed in sand dune being moved closer to nba eastern conference decider\n",
            "taliban suicide bomb kills five in california\n"
          ]
        }
      ]
    },
    {
      "cell_type": "markdown",
      "source": [
        "## Exercise 2. Text Summarization"
      ],
      "metadata": {
        "id": "SL4Xr4FRDU09"
      }
    },
    {
      "cell_type": "markdown",
      "source": [
        "- Use gensim.summarization to summarize the ‘jumper.txt’ file"
      ],
      "metadata": {
        "id": "RYV7SSegGyJB"
      }
    },
    {
      "cell_type": "code",
      "source": [
        "! pip3 install gensim==3.6.0"
      ],
      "metadata": {
        "colab": {
          "base_uri": "https://localhost:8080/"
        },
        "id": "ns8NDzKZDULy",
        "outputId": "024f29b4-7e1b-4d05-84af-9ab8a5ee0bb2"
      },
      "execution_count": null,
      "outputs": [
        {
          "output_type": "stream",
          "name": "stdout",
          "text": [
            "Looking in indexes: https://pypi.org/simple, https://us-python.pkg.dev/colab-wheels/public/simple/\n",
            "Requirement already satisfied: gensim==3.6.0 in /usr/local/lib/python3.7/dist-packages (3.6.0)\n",
            "Requirement already satisfied: numpy>=1.11.3 in /usr/local/lib/python3.7/dist-packages (from gensim==3.6.0) (1.21.6)\n",
            "Requirement already satisfied: smart-open>=1.2.1 in /usr/local/lib/python3.7/dist-packages (from gensim==3.6.0) (5.2.1)\n",
            "Requirement already satisfied: scipy>=0.18.1 in /usr/local/lib/python3.7/dist-packages (from gensim==3.6.0) (1.7.3)\n",
            "Requirement already satisfied: six>=1.5.0 in /usr/local/lib/python3.7/dist-packages (from gensim==3.6.0) (1.15.0)\n"
          ]
        }
      ]
    },
    {
      "cell_type": "code",
      "source": [
        "import gensim\n",
        "from gensim.summarization.summarizer import summarize\n",
        "from gensim.summarization import keywords"
      ],
      "metadata": {
        "id": "6D7P8lHvDUIP"
      },
      "execution_count": null,
      "outputs": []
    },
    {
      "cell_type": "code",
      "source": [
        "with open('/content/jumper.txt', 'r') as file:\n",
        "    jumper = file.read().replace('\\n', '')"
      ],
      "metadata": {
        "id": "u7sbVXv__IhD"
      },
      "execution_count": 24,
      "outputs": []
    },
    {
      "cell_type": "code",
      "source": [
        "jumper"
      ],
      "metadata": {
        "colab": {
          "base_uri": "https://localhost:8080/",
          "height": 159
        },
        "id": "zLOCvuJ6FZMS",
        "outputId": "81d2fda6-9f76-434b-b158-a2b5e008cca3"
      },
      "execution_count": 25,
      "outputs": [
        {
          "output_type": "execute_result",
          "data": {
            "text/plain": [
              "\"Jumping off a platform the height of a three-story building is how Olympian Laura Wilkinson broke her fear.Staring at an intimidating 33-foot drop, adrenaline pumping, Wilkinson flipped gracefully into the water below. The challenges she has overcome throughout her diving career have made her strong -- strong enough to dominate the sport for a decade.She is the first woman to win diving's three major world titles, including a gold medal at her first Olympic Games in 2000. Wilkinson told CNN she is hungry for more. After nine years in retirement, and recovery from a dangerous injury, the now 42-year-old is attempting a comeback in the face of a worldwide pandemic.When Wilkinson resumed training to compete at the Games in Tokyo, which were originally scheduled for July 2020, she felt a nagging and unfamiliar weakness in one of her arms.An MRI revealed major damage to the discs in her neck, caused in large part by a career of repeatedly hitting the water at high speeds. Her doctor warned that a car accident or bad fall could leave her a quadriplegic.Now married with four children, Wilkinson was told she would need spinal surgery not just to dive, but to safely do everyday activities with her children. Wilkinson had the surgery and rushed to get back into the water ahead of the 2020 Olympic trials.\""
            ],
            "application/vnd.google.colaboratory.intrinsic+json": {
              "type": "string"
            }
          },
          "metadata": {},
          "execution_count": 25
        }
      ]
    },
    {
      "cell_type": "code",
      "source": [
        "print ('Summary:')\n",
        "print (summarize(jumper))"
      ],
      "metadata": {
        "colab": {
          "base_uri": "https://localhost:8080/"
        },
        "id": "AF51CDywDUFE",
        "outputId": "57706c64-a48a-482f-9dce-94ec36909b2f"
      },
      "execution_count": 26,
      "outputs": [
        {
          "output_type": "stream",
          "name": "stderr",
          "text": [
            "WARNING:gensim.summarization.summarizer:Input text is expected to have at least 10 sentences.\n",
            "WARNING:gensim.summarization.summarizer:Input corpus is expected to have at least 10 documents.\n"
          ]
        },
        {
          "output_type": "stream",
          "name": "stdout",
          "text": [
            "Summary:\n",
            "Wilkinson had the surgery and rushed to get back into the water ahead of the 2020 Olympic trials.\n"
          ]
        }
      ]
    },
    {
      "cell_type": "markdown",
      "source": [
        "- What are the keywords?\n",
        "- What are the weighted keywords using the Montemurro and Zanette's entropy-based keyword extraction algorithm? Is there a difference with the keywords in the second bullet point question?"
      ],
      "metadata": {
        "id": "7kqdi0W8G2Ya"
      }
    },
    {
      "cell_type": "code",
      "source": [
        "from gensim.summarization import keywords\n",
        "print(keywords(jumper))"
      ],
      "metadata": {
        "id": "k7D-PYVEngcu",
        "colab": {
          "base_uri": "https://localhost:8080/"
        },
        "outputId": "6d82f0fb-e894-4be1-ffd4-017b7d32a09a"
      },
      "execution_count": 27,
      "outputs": [
        {
          "output_type": "stream",
          "name": "stdout",
          "text": [
            "wilkinson\n",
            "olympic\n",
            "diving\n",
            "dive\n",
            "spinal\n",
            "major world\n",
            "titles\n",
            "revealed\n",
            "foot\n",
            "drop\n",
            "told\n",
            "flipped\n",
            "laura\n"
          ]
        }
      ]
    },
    {
      "cell_type": "code",
      "source": [
        "from gensim.summarization import mz_keywords\n",
        "mz_keywords(jumper, scores=False, weighted=True, threshold=1.0)"
      ],
      "metadata": {
        "id": "2i37kyTznkG2",
        "colab": {
          "base_uri": "https://localhost:8080/",
          "height": 91
        },
        "outputId": "9206c3e9-ee2a-4932-e0e3-dfa39da44f71"
      },
      "execution_count": 44,
      "outputs": [
        {
          "output_type": "stream",
          "name": "stderr",
          "text": [
            "/usr/local/lib/python3.7/dist-packages/gensim/summarization/mz_entropy.py:103: RuntimeWarning: invalid value encountered in double_scalars\n",
            "  __log_combinations(n_words, blocksize)\n"
          ]
        },
        {
          "output_type": "execute_result",
          "data": {
            "text/plain": [
              "''"
            ],
            "application/vnd.google.colaboratory.intrinsic+json": {
              "type": "string"
            }
          },
          "metadata": {},
          "execution_count": 44
        }
      ]
    },
    {
      "cell_type": "markdown",
      "source": [],
      "metadata": {
        "id": "RdU6XuECBIlp"
      }
    },
    {
      "cell_type": "markdown",
      "source": [
        "## Exercise 3. Topic Modeling"
      ],
      "metadata": {
        "id": "PAvMKt1zpHme"
      }
    },
    {
      "cell_type": "markdown",
      "source": [
        "- Determine the top 20 topics using the Non-Negative Matrix\n",
        "Factorization (NMF) using ‘from sklearn.decomposition import NMF’\n",
        "- Vectorize the words after cleaning up the text\n",
        "- Use ‘print(\"Topic {}: {}\".format(i + 1, \",\".join([str(x) for x in idx_to_word\n",
        "[topic.argsort()[-10:]]]))) to list the topics"
      ],
      "metadata": {
        "id": "bfjVo760pHEm"
      }
    },
    {
      "cell_type": "code",
      "source": [
        "from sklearn.feature_extraction.text import TfidfVectorizer\n",
        "from sklearn.decomposition import NMF"
      ],
      "metadata": {
        "id": "mLeAnfAlpJQk"
      },
      "execution_count": 45,
      "outputs": []
    },
    {
      "cell_type": "code",
      "source": [
        "# convert the text to a tf-idf weighted term-document matrix\n",
        " \n",
        "vectorizer = TfidfVectorizer(max_features=2000, min_df=1, stop_words='english')\n",
        " \n",
        "X = vectorizer.fit_transform(inp['headline_text'].tolist())\n",
        " \n",
        "idx_to_word = np.array(vectorizer.get_feature_names())\n",
        " \n",
        "# apply NMF\n",
        "\n",
        "nmf = NMF(n_components=20, solver=\"mu\")\n",
        " \n",
        "W = nmf.fit_transform(X)\n",
        " \n",
        "H = nmf.components_\n",
        " \n",
        "# print the topics\n",
        " \n",
        "for i, topic in enumerate(H):\n",
        " \n",
        "    print(\"Topic {}: {}\".format(i + 1, \",\".join([str(x) for x in idx_to_word [topic.argsort()[-10:]]])))"
      ],
      "metadata": {
        "id": "rGaglDLbpJM7",
        "colab": {
          "base_uri": "https://localhost:8080/"
        },
        "outputId": "bd132771-9dce-4233-ad99-4095013a9b15"
      },
      "execution_count": 50,
      "outputs": [
        {
          "output_type": "stream",
          "name": "stdout",
          "text": [
            "Topic 1: andrew,smith,ben,james,david,john,nrl,michael,extended,interview\n",
            "Topic 2: arrest,shooting,officer,hunt,missing,man,search,investigate,probe,police\n",
            "Topic 3: gets,years,centre,deal,home,york,year,laws,zealand,new\n",
            "Topic 4: pleads,child,stabbing,attack,accused,dies,guilty,arrested,jailed,man\n",
            "Topic 5: group,union,government,trump,opposition,pm,labor,minister,mp,says\n",
            "Topic 6: boost,government,funding,calls,sa,qld,plan,urged,nsw,govt\n",
            "Topic 7: hears,murder,high,charges,case,faces,told,face,accused,court\n",
            "Topic 8: ashes,england,cricket,china,vs,india,test,south,day,australia\n",
            "Topic 9: rates,development,mayor,backs,seeks,plans,land,considers,plan,council\n",
            "Topic 10: dead,plane,driver,road,woman,fatal,killed,car,dies,crash\n",
            "Topic 11: tasmania,doctors,park,sa,reporter,qld,nsw,news,national,rural\n",
            "Topic 12: set,title,england,rugby,record,melbourne,final,win,cup,world\n",
            "Topic 13: price,irrigators,use,farmers,residents,murray,supply,restrictions,plan,water\n",
            "Topic 14: shares,south,day,share,china,dollar,year,market,open,australian\n",
            "Topic 15: men,drug,teen,stabbing,assault,trial,death,woman,murder,charged\n",
            "Topic 16: airport,melbourne,west,shooting,south,house,western,home,hobart,sydney\n",
            "Topic 17: talks,speaks,entertainment,analysis,sport,market,news,weather,business,abc\n",
            "Topic 18: climate,shows,china,north,reveals,government,finds,kohler,wa,report\n",
            "Topic 19: workers,services,funding,indigenous,minister,service,mental,hospital,death,health\n",
            "Topic 20: sunshine,title,continues,award,woman,search,missing,coast,gold,wins\n"
          ]
        }
      ]
    },
    {
      "cell_type": "code",
      "source": [
        "from sklearn.decomposition import NMF\n",
        "\n",
        "nmf = NMF(n_components=5, random_state=42)\n",
        "W_text_matrix = nmf.fit_transform(X)\n",
        "H_text_matrix = nmf.components_\n",
        "def display_topics(model, features, no_top_words=20):\n",
        "    for topic, words in enumerate(model.components_):\n",
        "        total = words.sum()\n",
        "        largest = words.argsort()[::-1] # invert sort order\n",
        "        print(\"\\nTopic %02d\" % topic)\n",
        "        for i in range(0, no_top_words):\n",
        "            print(\"  %s (%2.2f)\" % (features[largest[i]], abs(words[largest[i]]*100.0/total)))"
      ],
      "metadata": {
        "id": "OqXVleO9pJGF"
      },
      "execution_count": 51,
      "outputs": []
    },
    {
      "cell_type": "code",
      "source": [
        "display_topics(nmf, idx_to_word)"
      ],
      "metadata": {
        "id": "M6SGfWUYpIse",
        "colab": {
          "base_uri": "https://localhost:8080/"
        },
        "outputId": "bbb706fe-06f5-4408-a379-dd7a50816d87"
      },
      "execution_count": 52,
      "outputs": [
        {
          "output_type": "stream",
          "name": "stdout",
          "text": [
            "\n",
            "Topic 00\n",
            "  interview (65.63)\n",
            "  extended (2.91)\n",
            "  michael (1.76)\n",
            "  nrl (1.29)\n",
            "  john (1.23)\n",
            "  david (1.16)\n",
            "  james (0.99)\n",
            "  ben (0.87)\n",
            "  smith (0.78)\n",
            "  andrew (0.77)\n",
            "  tim (0.70)\n",
            "  matt (0.70)\n",
            "  chris (0.69)\n",
            "  mark (0.63)\n",
            "  peter (0.63)\n",
            "  luke (0.63)\n",
            "  scott (0.62)\n",
            "  matthew (0.61)\n",
            "  afl (0.60)\n",
            "  craig (0.60)\n",
            "\n",
            "Topic 01\n",
            "  police (19.09)\n",
            "  probe (1.81)\n",
            "  investigate (1.65)\n",
            "  search (1.38)\n",
            "  missing (1.33)\n",
            "  death (1.10)\n",
            "  car (1.07)\n",
            "  hunt (1.06)\n",
            "  crash (0.95)\n",
            "  officer (0.84)\n",
            "  shooting (0.68)\n",
            "  fatal (0.67)\n",
            "  seek (0.66)\n",
            "  say (0.65)\n",
            "  arrest (0.64)\n",
            "  body (0.57)\n",
            "  woman (0.57)\n",
            "  nsw (0.56)\n",
            "  drug (0.52)\n",
            "  station (0.49)\n",
            "\n",
            "Topic 02\n",
            "  new (19.07)\n",
            "  zealand (1.10)\n",
            "  laws (0.77)\n",
            "  year (0.65)\n",
            "  hospital (0.52)\n",
            "  home (0.50)\n",
            "  york (0.46)\n",
            "  centre (0.46)\n",
            "  deal (0.43)\n",
            "  years (0.42)\n",
            "  gets (0.36)\n",
            "  south (0.36)\n",
            "  set (0.35)\n",
            "  opens (0.32)\n",
            "  president (0.32)\n",
            "  council (0.32)\n",
            "  wa (0.31)\n",
            "  australian (0.31)\n",
            "  life (0.30)\n",
            "  chief (0.30)\n",
            "\n",
            "Topic 03\n",
            "  man (12.96)\n",
            "  charged (4.09)\n",
            "  court (3.54)\n",
            "  murder (2.46)\n",
            "  dies (1.64)\n",
            "  accused (1.57)\n",
            "  crash (1.36)\n",
            "  jailed (1.32)\n",
            "  death (1.13)\n",
            "  woman (1.13)\n",
            "  car (1.10)\n",
            "  missing (1.01)\n",
            "  guilty (0.96)\n",
            "  face (0.91)\n",
            "  stabbing (0.88)\n",
            "  sydney (0.87)\n",
            "  killed (0.84)\n",
            "  arrested (0.84)\n",
            "  attack (0.81)\n",
            "  assault (0.78)\n",
            "\n",
            "Topic 04\n",
            "  says (5.69)\n",
            "  council (1.48)\n",
            "  govt (1.47)\n",
            "  australia (1.19)\n",
            "  water (0.85)\n",
            "  plan (0.80)\n",
            "  nsw (0.76)\n",
            "  health (0.55)\n",
            "  qld (0.55)\n",
            "  report (0.55)\n",
            "  wa (0.53)\n",
            "  rural (0.50)\n",
            "  sa (0.45)\n",
            "  government (0.45)\n",
            "  urged (0.42)\n",
            "  minister (0.41)\n",
            "  australian (0.41)\n",
            "  day (0.39)\n",
            "  world (0.38)\n",
            "  labor (0.37)\n"
          ]
        }
      ]
    }
  ]
}